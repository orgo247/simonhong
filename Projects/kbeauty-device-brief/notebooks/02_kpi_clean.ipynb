{
 "cells": [
  {
   "cell_type": "code",
   "execution_count": null,
   "id": "cb6196cb",
   "metadata": {
    "vscode": {
     "languageId": "plaintext"
    }
   },
   "outputs": [],
   "source": [
    "import os, sys, pandas as pd, requests\n",
    "\n",
    "# Your DART key will come from .env later\n",
    "print(\"Python version:\", sys.version)\n",
    "print(\"Notebook stub ready\")\n"
   ]
  },
  {
   "cell_type": "markdown",
   "id": "e8c99fd6",
   "metadata": {},
   "source": [
    "# 02 — KPI Cleaning & Normalization\n"
   ]
  }
 ],
 "metadata": {
  "language_info": {
   "name": "python"
  }
 },
 "nbformat": 4,
 "nbformat_minor": 5
}
