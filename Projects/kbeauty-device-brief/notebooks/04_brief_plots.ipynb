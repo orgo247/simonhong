{
 "cells": [
  {
   "cell_type": "code",
   "execution_count": null,
   "id": "0de806a3",
   "metadata": {
    "vscode": {
     "languageId": "plaintext"
    }
   },
   "outputs": [],
   "source": [
    "import os, sys, pandas as pd, requests\n",
    "\n",
    "# Your DART key will come from .env later\n",
    "print(\"Python version:\", sys.version)\n",
    "print(\"Notebook stub ready\")\n"
   ]
  },
  {
   "cell_type": "markdown",
   "id": "efe5b910",
   "metadata": {},
   "source": [
    "# 04 — Brief Plots & Export (peer_summary.xlsx)"
   ]
  }
 ],
 "metadata": {
  "language_info": {
   "name": "python"
  }
 },
 "nbformat": 4,
 "nbformat_minor": 5
}
