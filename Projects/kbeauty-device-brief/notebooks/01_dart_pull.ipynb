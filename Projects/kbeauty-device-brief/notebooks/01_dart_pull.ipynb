{
 "cells": [
  {
   "cell_type": "code",
   "execution_count": null,
   "id": "f172f132",
   "metadata": {
    "vscode": {
     "languageId": "plaintext"
    }
   },
   "outputs": [],
   "source": [
    "import os, sys, pandas as pd, requests\n",
    "\n",
    "# Your DART key will come from .env later\n",
    "print(\"Python version:\", sys.version)\n",
    "print(\"Notebook stub ready\")\n"
   ]
  },
  {
   "cell_type": "markdown",
   "id": "d7c3a375",
   "metadata": {},
   "source": [
    "Goal: fetch 5Y standardized statements for peers via OpenDART."
   ]
  }
 ],
 "metadata": {
  "language_info": {
   "name": "python"
  }
 },
 "nbformat": 4,
 "nbformat_minor": 5
}
