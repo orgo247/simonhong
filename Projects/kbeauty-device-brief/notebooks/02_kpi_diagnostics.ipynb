{
 "cells": [
  {
   "cell_type": "code",
   "execution_count": null,
   "id": "acca2a64",
   "metadata": {
    "vscode": {
     "languageId": "plaintext"
    }
   },
   "outputs": [],
   "source": [
    "import pandas as pd, numpy as np\n",
    "from pathlib import Path\n",
    "import matplotlib.pyplot as plt\n",
    "\n",
    "RAW  = Path(\"../data/raw\")\n",
    "PROC = Path(\"../data/processed\"); PROC.mkdir(parents=True, exist_ok=True)\n",
    "FIGS = Path(\"../figs\"); FIGS.mkdir(parents=True, exist_ok=True)\n",
    "\n",
    "pd.options.display.float_format = \"{:,.3f}\".format\n"
   ]
  }
 ],
 "metadata": {
  "language_info": {
   "name": "python"
  }
 },
 "nbformat": 4,
 "nbformat_minor": 5
}
