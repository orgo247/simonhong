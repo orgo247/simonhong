{
 "cells": [
  {
   "cell_type": "code",
   "execution_count": null,
   "id": "79c00e27",
   "metadata": {},
   "outputs": [],
   "source": [
    "import pandas as pd\n",
    "from pathlib import Path\n",
    "\n",
    "ROOT = Path.cwd().resolve().parents[0] if (Path.cwd()/ \"reports\").name == \"reports\" else Path.cwd()\n",
    "PROC = ROOT / \"data\" / \"processed\"\n",
    "\n",
    "jion = pd.read_csv(PROC / \"metrics_jion.csv\")\n",
    "peers = pd.read_csv(PROC / \"metrics_peers.csv\")\n",
    "peer_avg = pd.read_csv(PROC / \"peer_avg_by_year.csv\")\n",
    "jion_vs_peer = pd.read_csv(PROC / \"jion_vs_peer_avg.csv\")\n",
    "\n",
    "jion.sort_values(\"year\", inplace=True)\n",
    "display(jion.head(10))\n"
   ]
  },
  {
   "cell_type": "code",
   "execution_count": null,
   "id": "d00f9114",
   "metadata": {},
   "outputs": [],
   "source": [
    "keep = [\"year\",\"Revenue\",\"OperatingIncome\",\"OpMargin\",\"SGA_ratio\",\"Ad_ratio\",\n",
    "        \"CurrentRatio\",\"DebtToEquity\",\"CFO\",\"CFO_margin\",\"Inventories\"]\n",
    "display(jion[keep])\n"
   ]
  },
  {
   "cell_type": "code",
   "execution_count": null,
   "id": "97fe739b",
   "metadata": {},
   "outputs": [],
   "source": [
    "cols = [\"year\",\"Sales\",\"OpMargin\",\"SGA_ratio\",\"Ad_ratio\",\"CurrentRatio\",\"DebtToEquity\",\"CFO_margin\"]\n",
    "display(peer_avg[cols])\n"
   ]
  },
  {
   "cell_type": "code",
   "execution_count": null,
   "id": "a8746315",
   "metadata": {},
   "outputs": [],
   "source": [
    "show = [\"year\",\"OpMargin\",\"OpMargin_peer_avg\",\"OpMargin_vs_peer_avg\",\n",
    "        \"SGA_ratio\",\"SGA_ratio_peer_avg\",\"SGA_ratio_vs_peer_avg\",\n",
    "        \"Ad_ratio\",\"Ad_ratio_peer_avg\",\"Ad_ratio_vs_peer_avg\",\n",
    "        \"CFO_margin\",\"CFO_margin_peer_avg\",\"CFO_margin_vs_peer_avg\",\n",
    "        \"CurrentRatio\",\"CurrentRatio_peer_avg\",\"CurrentRatio_vs_peer_avg\",\n",
    "        \"DebtToEquity\",\"DebtToEquity_peer_avg\",\"DebtToEquity_vs_peer_avg\"]\n",
    "display(jion_vs_peer[show])\n"
   ]
  }
 ],
 "metadata": {
  "language_info": {
   "name": "python"
  }
 },
 "nbformat": 4,
 "nbformat_minor": 5
}
